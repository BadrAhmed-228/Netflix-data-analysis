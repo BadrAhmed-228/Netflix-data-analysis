{
 "cells": [
  {
   "cell_type": "markdown",
   "id": "5962b2cd-17bb-4ec9-b2d5-68537ca26860",
   "metadata": {},
   "source": [
    "**Netflix**! What started in 1997 as a DVD rental service has since exploded into one of the largest entertainment and media companies.\n",
    "\n",
    "Given the large number of movies and series available on the platform, it is a perfect opportunity to flex your exploratory data analysis skills and dive into the entertainment industry.\n",
    "\n",
    "You work for a production company that specializes in nostalgic styles. You want to do some research on movies released in the 1990's. You'll delve into Netflix data and perform exploratory data analysis to better understand this awesome movie decade!\n",
    "\n",
    "You have been supplied with the dataset `netflix_data.csv`, along with the following table detailing the column names and descriptions. Feel free to experiment further after submitting!\n",
    "\n",
    "## The data\n",
    "### **netflix_data.csv**\n",
    "| Column | Description |\n",
    "|--------|-------------|\n",
    "| `show_id` | The ID of the show |\n",
    "| `type` | Type of show |\n",
    "| `title` | Title of the show |\n",
    "| `director` | Director of the show |\n",
    "| `cast` | Cast of the show |\n",
    "| `country` | Country of origin |\n",
    "| `date_added` | Date added to Netflix |\n",
    "| `release_year` | Year of Netflix release |\n",
    "| `duration` | Duration of the show in minutes |\n",
    "| `description` | Description of the show |\n",
    "| `genre` | Show genre |"
   ]
  },
  {
   "cell_type": "code",
   "execution_count": 3,
   "id": "320a3abc-8a36-4b2b-baaf-473325363a4d",
   "metadata": {
    "executionCancelledAt": null,
    "executionTime": 37,
    "lastExecutedAt": 1743916184061,
    "lastExecutedByKernel": "45c4be96-af71-4f5d-b31e-092b6c1b039d",
    "lastScheduledRunId": null,
    "lastSuccessfullyExecutedCode": "# Importing pandas and matplotlib\nimport pandas as pd\nimport matplotlib.pyplot as plt\n\n# Read in the Netflix CSV as a DataFrame\nnetflix_df = pd.read_csv(\"netflix_data.csv\", index_col = 0)"
   },
   "outputs": [],
   "source": [
    "import pandas as pd\n",
    "import matplotlib.pyplot as plt\n",
    "\n",
    "# Read in the Netflix CSV as a DataFrame\n",
    "netflix_df = pd.read_csv(\"C:\\\\Users\\\\pc\\\\Downloads\\\\netflix_data.csv\", index_col = 0)"
   ]
  },
  {
   "cell_type": "code",
   "execution_count": 4,
   "id": "ddf5dd18-4ee5-4aac-9a10-40ed5f58b62a",
   "metadata": {},
   "outputs": [
    {
     "name": "stdout",
     "output_type": "stream",
     "text": [
      "            type  title           director  \\\n",
      "show_id                                      \n",
      "s2         Movie   7:19  Jorge Michel Grau   \n",
      "s3         Movie  23:59       Gilbert Chan   \n",
      "s4         Movie      9        Shane Acker   \n",
      "s5         Movie     21     Robert Luketic   \n",
      "s6       TV Show     46        Serdar Akar   \n",
      "\n",
      "                                                      cast        country  \\\n",
      "show_id                                                                     \n",
      "s2       Demián Bichir, Héctor Bonilla, Oscar Serrano, ...         Mexico   \n",
      "s3       Tedd Chan, Stella Chung, Henley Hii, Lawrence ...      Singapore   \n",
      "s4       Elijah Wood, John C. Reilly, Jennifer Connelly...  United States   \n",
      "s5       Jim Sturgess, Kevin Spacey, Kate Bosworth, Aar...  United States   \n",
      "s6       Erdal Beşikçioğlu, Yasemin Allen, Melis Birkan...         Turkey   \n",
      "\n",
      "                date_added  release_year  duration  \\\n",
      "show_id                                              \n",
      "s2       December 23, 2016          2016        93   \n",
      "s3       December 20, 2018          2011        78   \n",
      "s4       November 16, 2017          2009        80   \n",
      "s5         January 1, 2020          2008       123   \n",
      "s6            July 1, 2017          2016         1   \n",
      "\n",
      "                                               description             genre  \n",
      "show_id                                                                       \n",
      "s2       After a devastating earthquake hits Mexico Cit...            Dramas  \n",
      "s3       When an army recruit is found dead, his fellow...     Horror Movies  \n",
      "s4       In a postapocalyptic world, rag-doll robots hi...            Action  \n",
      "s5       A brilliant group of students become card-coun...            Dramas  \n",
      "s6       A genetics professor experiments with a treatm...  International TV  \n",
      "<class 'pandas.core.frame.DataFrame'>\n",
      "Index: 4812 entries, s2 to s7784\n",
      "Data columns (total 10 columns):\n",
      " #   Column        Non-Null Count  Dtype \n",
      "---  ------        --------------  ----- \n",
      " 0   type          4812 non-null   object\n",
      " 1   title         4812 non-null   object\n",
      " 2   director      4812 non-null   object\n",
      " 3   cast          4812 non-null   object\n",
      " 4   country       4812 non-null   object\n",
      " 5   date_added    4812 non-null   object\n",
      " 6   release_year  4812 non-null   int64 \n",
      " 7   duration      4812 non-null   int64 \n",
      " 8   description   4812 non-null   object\n",
      " 9   genre         4812 non-null   object\n",
      "dtypes: int64(2), object(8)\n",
      "memory usage: 413.5+ KB\n",
      "None\n"
     ]
    }
   ],
   "source": [
    "print(netflix_df.head())\n",
    "\n",
    "print(netflix_df.info())"
   ]
  },
  {
   "cell_type": "code",
   "execution_count": 5,
   "id": "561b43d0-04d8-4367-93d2-c140b51830c6",
   "metadata": {},
   "outputs": [
    {
     "name": "stdout",
     "output_type": "stream",
     "text": [
      "show_id\n",
      "s2       December 23, 2016\n",
      "s3       December 20, 2018\n",
      "s4       November 16, 2017\n",
      "s5         January 1, 2020\n",
      "s6            July 1, 2017\n",
      "               ...        \n",
      "s7779     November 1, 2019\n",
      "s7781         July 1, 2018\n",
      "s7782     January 11, 2020\n",
      "s7783     October 19, 2020\n",
      "s7784        March 2, 2019\n",
      "Name: date_added, Length: 4812, dtype: object\n"
     ]
    }
   ],
   "source": [
    "df_date = netflix_df['date_added']\n",
    "print(df_date)"
   ]
  },
  {
   "cell_type": "code",
   "execution_count": 9,
   "id": "c4c5e469-c985-409b-af5e-ff0564dd2ef3",
   "metadata": {},
   "outputs": [
    {
     "name": "stdout",
     "output_type": "stream",
     "text": [
      "datetime64[ns]\n"
     ]
    }
   ],
   "source": [
    "netflix_df['date_added'] = pd.to_datetime(df_date, errors='coerce')\n",
    "\n",
    "print(netflix_df['date_added'].dtype)"
   ]
  },
  {
   "cell_type": "code",
   "execution_count": 11,
   "id": "6615fc33-6518-442d-b3ef-935f6a3b5d9c",
   "metadata": {},
   "outputs": [
    {
     "name": "stdout",
     "output_type": "stream",
     "text": [
      "          type  title           director  \\\n",
      "show_id                                    \n",
      "s2       Movie   7:19  Jorge Michel Grau   \n",
      "s3       Movie  23:59       Gilbert Chan   \n",
      "s4       Movie      9        Shane Acker   \n",
      "s5       Movie     21     Robert Luketic   \n",
      "s7       Movie    122    Yasir Al Yasiri   \n",
      "\n",
      "                                                      cast        country  \\\n",
      "show_id                                                                     \n",
      "s2       Demián Bichir, Héctor Bonilla, Oscar Serrano, ...         Mexico   \n",
      "s3       Tedd Chan, Stella Chung, Henley Hii, Lawrence ...      Singapore   \n",
      "s4       Elijah Wood, John C. Reilly, Jennifer Connelly...  United States   \n",
      "s5       Jim Sturgess, Kevin Spacey, Kate Bosworth, Aar...  United States   \n",
      "s7       Amina Khalil, Ahmed Dawood, Tarek Lotfy, Ahmed...          Egypt   \n",
      "\n",
      "        date_added  release_year  duration  \\\n",
      "show_id                                      \n",
      "s2      2016-12-23          2016        93   \n",
      "s3      2018-12-20          2011        78   \n",
      "s4      2017-11-16          2009        80   \n",
      "s5      2020-01-01          2008       123   \n",
      "s7      2020-06-01          2019        95   \n",
      "\n",
      "                                               description          genre  \n",
      "show_id                                                                    \n",
      "s2       After a devastating earthquake hits Mexico Cit...         Dramas  \n",
      "s3       When an army recruit is found dead, his fellow...  Horror Movies  \n",
      "s4       In a postapocalyptic world, rag-doll robots hi...         Action  \n",
      "s5       A brilliant group of students become card-coun...         Dramas  \n",
      "s7       After an awful accident, a couple admitted to ...  Horror Movies  \n"
     ]
    }
   ],
   "source": [
    "movie_df = netflix_df[netflix_df['type'] == 'Movie'] #store data frame filtered only movies\n",
    "print(movie_df.head())"
   ]
  },
  {
   "cell_type": "code",
   "execution_count": 15,
   "id": "3a5a055b-8a92-4015-a68f-67c9d576b502",
   "metadata": {},
   "outputs": [
    {
     "name": "stdout",
     "output_type": "stream",
     "text": [
      "          type                            title            director  \\\n",
      "show_id                                                               \n",
      "s8       Movie                              187      Kevin Reynolds   \n",
      "s167     Movie                A Dangerous Woman  Stephen Gyllenhaal   \n",
      "s211     Movie           A Night at the Roxbury    John Fortenberry   \n",
      "s239     Movie  A Thin Line Between Love & Hate     Martin Lawrence   \n",
      "s274     Movie                     Aashik Awara         Umesh Mehra   \n",
      "\n",
      "                                                      cast        country  \\\n",
      "show_id                                                                     \n",
      "s8       Samuel L. Jackson, John Heard, Kelly Rowan, Cl...  United States   \n",
      "s167     Debra Winger, Barbara Hershey, Gabriel Byrne, ...  United States   \n",
      "s211     Will Ferrell, Chris Kattan, Dan Hedaya, Molly ...  United States   \n",
      "s239     Martin Lawrence, Lynn Whitfield, Regina King, ...  United States   \n",
      "s274     Saif Ali Khan, Mamta Kulkarni, Mohnish Bahl, S...          India   \n",
      "\n",
      "        date_added  release_year  duration  \\\n",
      "show_id                                      \n",
      "s8      2019-11-01          1997       119   \n",
      "s167    2018-04-01          1993       101   \n",
      "s211    2019-12-01          1998        82   \n",
      "s239    2020-12-01          1996       108   \n",
      "s274    2017-06-01          1993       154   \n",
      "\n",
      "                                               description     genre  \n",
      "show_id                                                               \n",
      "s8       After one of his high school students attacks ...    Dramas  \n",
      "s167     At the center of this engrossing melodrama is ...    Dramas  \n",
      "s211     After a run-in with Richard Grieco, dimwits Do...  Comedies  \n",
      "s239     When a philandering club promoter sets out to ...  Comedies  \n",
      "s274     Raised by a kindly thief, orphaned Jimmy goes ...    Dramas  \n"
     ]
    }
   ],
   "source": [
    "#store date frame filtered 90s only(i have now movies in 90s)\n",
    "df_movies_90s = movie_df[(movie_df['release_year'] >= 1990) & (movie_df['release_year'] < 2000)]\n",
    "print(df_movies_90s.head())"
   ]
  },
  {
   "cell_type": "code",
   "execution_count": 16,
   "id": "89943960-4dc2-4243-8221-b770c662a6f1",
   "metadata": {},
   "outputs": [
    {
     "name": "stdout",
     "output_type": "stream",
     "text": [
      "total movies in the 90s =  183\n"
     ]
    }
   ],
   "source": [
    "total_movies_90s = len(df_movies_90s)\n",
    "print('total movies in the 90s = ' , total_movies_90s)"
   ]
  },
  {
   "cell_type": "code",
   "execution_count": 17,
   "id": "c2908a08-fce1-45ad-b417-096e69179356",
   "metadata": {},
   "outputs": [
    {
     "name": "stdout",
     "output_type": "stream",
     "text": [
      "top ten countries in the 90s movies\n",
      " country\n",
      "United States     99\n",
      "India             34\n",
      "United Kingdom    17\n",
      "Hong Kong         11\n",
      "France             5\n",
      "Australia          5\n",
      "Mexico             3\n",
      "Germany            2\n",
      "Japan              2\n",
      "Poland             1\n",
      "Name: count, dtype: int64\n"
     ]
    }
   ],
   "source": [
    "frequent_countries = df_movies_90s['country'].value_counts()\n",
    "print('top ten countries in the 90s movies\\n', frequent_countries.head(10))"
   ]
  },
  {
   "cell_type": "code",
   "execution_count": 21,
   "id": "b50edd0a-1bb5-4c91-9081-c20476510a29",
   "metadata": {},
   "outputs": [
    {
     "name": "stdout",
     "output_type": "stream",
     "text": [
      "the most frequent directors produces movies in 90s\n",
      " director\n",
      "Johnnie To            4\n",
      "Youssef Chahine       3\n",
      "Umesh Mehra           3\n",
      "Gregory Hoblit        3\n",
      "Subhash Ghai          3\n",
      "Mahesh Bhatt          3\n",
      "Rajkumar Santoshi     3\n",
      "Sooraj R. Barjatya    3\n",
      "David Dhawan          2\n",
      "Quentin Tarantino     2\n",
      "Name: count, dtype: int64\n"
     ]
    }
   ],
   "source": [
    "frequent_directors = df_movies_90s['director'].value_counts()\n",
    "print('the most frequent directors produces movies in 90s\\n', frequent_directors.head(10))"
   ]
  },
  {
   "cell_type": "code",
   "execution_count": 22,
   "id": "3dce38bd-5726-4f4f-b24e-2b63b2e21e80",
   "metadata": {},
   "outputs": [
    {
     "name": "stdout",
     "output_type": "stream",
     "text": [
      "duration\n",
      "94     7\n",
      "101    6\n",
      "108    5\n",
      "93     5\n",
      "96     5\n",
      "Name: count, dtype: int64\n"
     ]
    }
   ],
   "source": [
    "most_frepuent_duration = df_movies_90s['duration'].value_counts().head(5)\n",
    "print(most_frepuent_duration) # most frequent duration is 94"
   ]
  },
  {
   "cell_type": "code",
   "execution_count": 23,
   "id": "a8eac0f8-0dff-4f88-9cb8-173bdcb3c4cb",
   "metadata": {},
   "outputs": [
    {
     "name": "stdout",
     "output_type": "stream",
     "text": [
      "number of short movies:  7\n"
     ]
    }
   ],
   "source": [
    "short_action_movie = df_movies_90s[(df_movies_90s['duration'] < 90) & (df_movies_90s['genre'].str.contains(\"Action\", case=False, na=False))]\n",
    "short_movie_count = len(short_action_movie)\n",
    "print(\"number of short movies: \", short_movie_count)"
   ]
  }
 ],
 "metadata": {
  "colab": {
   "name": "Welcome to DataCamp Workspaces.ipynb",
   "provenance": []
  },
  "editor": "DataLab",
  "kernelspec": {
   "display_name": "Python 3 (ipykernel)",
   "language": "python",
   "name": "python3"
  },
  "language_info": {
   "codemirror_mode": {
    "name": "ipython",
    "version": 3
   },
   "file_extension": ".py",
   "mimetype": "text/x-python",
   "name": "python",
   "nbconvert_exporter": "python",
   "pygments_lexer": "ipython3",
   "version": "3.12.7"
  }
 },
 "nbformat": 4,
 "nbformat_minor": 5
}
